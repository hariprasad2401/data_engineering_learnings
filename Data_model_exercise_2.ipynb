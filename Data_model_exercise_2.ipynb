{
 "cells": [
  {
   "cell_type": "code",
   "execution_count": 1,
   "metadata": {},
   "outputs": [],
   "source": [
    "import pandas as pd\n",
    "import mysql.connector"
   ]
  },
  {
   "cell_type": "markdown",
   "metadata": {},
   "source": [
    "#### Datasets\n",
    "1. student\n",
    "2. student_courses\n",
    "3. course"
   ]
  },
  {
   "cell_type": "code",
   "execution_count": 2,
   "metadata": {},
   "outputs": [
    {
     "data": {
      "text/html": [
       "<div>\n",
       "<style scoped>\n",
       "    .dataframe tbody tr th:only-of-type {\n",
       "        vertical-align: middle;\n",
       "    }\n",
       "\n",
       "    .dataframe tbody tr th {\n",
       "        vertical-align: top;\n",
       "    }\n",
       "\n",
       "    .dataframe thead th {\n",
       "        text-align: right;\n",
       "    }\n",
       "</style>\n",
       "<table border=\"1\" class=\"dataframe\">\n",
       "  <thead>\n",
       "    <tr style=\"text-align: right;\">\n",
       "      <th></th>\n",
       "      <th>Student_id</th>\n",
       "      <th>Name</th>\n",
       "    </tr>\n",
       "  </thead>\n",
       "  <tbody>\n",
       "    <tr>\n",
       "      <th>0</th>\n",
       "      <td>101</td>\n",
       "      <td>ravi</td>\n",
       "    </tr>\n",
       "    <tr>\n",
       "      <th>1</th>\n",
       "      <td>102</td>\n",
       "      <td>kiran</td>\n",
       "    </tr>\n",
       "    <tr>\n",
       "      <th>2</th>\n",
       "      <td>103</td>\n",
       "      <td>kedar</td>\n",
       "    </tr>\n",
       "    <tr>\n",
       "      <th>3</th>\n",
       "      <td>104</td>\n",
       "      <td>manoj</td>\n",
       "    </tr>\n",
       "    <tr>\n",
       "      <th>4</th>\n",
       "      <td>105</td>\n",
       "      <td>kruthik</td>\n",
       "    </tr>\n",
       "    <tr>\n",
       "      <th>5</th>\n",
       "      <td>106</td>\n",
       "      <td>guru</td>\n",
       "    </tr>\n",
       "    <tr>\n",
       "      <th>6</th>\n",
       "      <td>107</td>\n",
       "      <td>darshan</td>\n",
       "    </tr>\n",
       "    <tr>\n",
       "      <th>7</th>\n",
       "      <td>108</td>\n",
       "      <td>jithendra</td>\n",
       "    </tr>\n",
       "    <tr>\n",
       "      <th>8</th>\n",
       "      <td>109</td>\n",
       "      <td>tarun</td>\n",
       "    </tr>\n",
       "    <tr>\n",
       "      <th>9</th>\n",
       "      <td>110</td>\n",
       "      <td>rakshith</td>\n",
       "    </tr>\n",
       "  </tbody>\n",
       "</table>\n",
       "</div>"
      ],
      "text/plain": [
       "   Student_id       Name\n",
       "0         101       ravi\n",
       "1         102      kiran\n",
       "2         103      kedar\n",
       "3         104      manoj\n",
       "4         105    kruthik\n",
       "5         106       guru\n",
       "6         107    darshan\n",
       "7         108  jithendra\n",
       "8         109      tarun\n",
       "9         110   rakshith"
      ]
     },
     "execution_count": 2,
     "metadata": {},
     "output_type": "execute_result"
    }
   ],
   "source": [
    "df1=pd.read_csv('student.csv')\n",
    "df1"
   ]
  },
  {
   "cell_type": "code",
   "execution_count": 31,
   "metadata": {},
   "outputs": [
    {
     "data": {
      "text/html": [
       "<div>\n",
       "<style scoped>\n",
       "    .dataframe tbody tr th:only-of-type {\n",
       "        vertical-align: middle;\n",
       "    }\n",
       "\n",
       "    .dataframe tbody tr th {\n",
       "        vertical-align: top;\n",
       "    }\n",
       "\n",
       "    .dataframe thead th {\n",
       "        text-align: right;\n",
       "    }\n",
       "</style>\n",
       "<table border=\"1\" class=\"dataframe\">\n",
       "  <thead>\n",
       "    <tr style=\"text-align: right;\">\n",
       "      <th></th>\n",
       "      <th>Student_id</th>\n",
       "      <th>Course_id</th>\n",
       "    </tr>\n",
       "  </thead>\n",
       "  <tbody>\n",
       "    <tr>\n",
       "      <th>0</th>\n",
       "      <td>101</td>\n",
       "      <td>18ME001</td>\n",
       "    </tr>\n",
       "    <tr>\n",
       "      <th>1</th>\n",
       "      <td>104</td>\n",
       "      <td>18ME001</td>\n",
       "    </tr>\n",
       "    <tr>\n",
       "      <th>2</th>\n",
       "      <td>106</td>\n",
       "      <td>18ME001</td>\n",
       "    </tr>\n",
       "    <tr>\n",
       "      <th>3</th>\n",
       "      <td>110</td>\n",
       "      <td>18ME002</td>\n",
       "    </tr>\n",
       "    <tr>\n",
       "      <th>4</th>\n",
       "      <td>102</td>\n",
       "      <td>18ME003</td>\n",
       "    </tr>\n",
       "    <tr>\n",
       "      <th>5</th>\n",
       "      <td>105</td>\n",
       "      <td>18ME003</td>\n",
       "    </tr>\n",
       "    <tr>\n",
       "      <th>6</th>\n",
       "      <td>108</td>\n",
       "      <td>18ME005</td>\n",
       "    </tr>\n",
       "    <tr>\n",
       "      <th>7</th>\n",
       "      <td>109</td>\n",
       "      <td>18ME005</td>\n",
       "    </tr>\n",
       "    <tr>\n",
       "      <th>8</th>\n",
       "      <td>103</td>\n",
       "      <td>18ME012</td>\n",
       "    </tr>\n",
       "    <tr>\n",
       "      <th>9</th>\n",
       "      <td>107</td>\n",
       "      <td>18ME012</td>\n",
       "    </tr>\n",
       "  </tbody>\n",
       "</table>\n",
       "</div>"
      ],
      "text/plain": [
       "   Student_id Course_id\n",
       "0         101   18ME001\n",
       "1         104   18ME001\n",
       "2         106   18ME001\n",
       "3         110   18ME002\n",
       "4         102   18ME003\n",
       "5         105   18ME003\n",
       "6         108   18ME005\n",
       "7         109   18ME005\n",
       "8         103   18ME012\n",
       "9         107   18ME012"
      ]
     },
     "execution_count": 31,
     "metadata": {},
     "output_type": "execute_result"
    }
   ],
   "source": [
    "df2=pd.read_csv('student_courses.csv')\n",
    "df2"
   ]
  },
  {
   "cell_type": "code",
   "execution_count": 36,
   "metadata": {},
   "outputs": [
    {
     "data": {
      "text/html": [
       "<div>\n",
       "<style scoped>\n",
       "    .dataframe tbody tr th:only-of-type {\n",
       "        vertical-align: middle;\n",
       "    }\n",
       "\n",
       "    .dataframe tbody tr th {\n",
       "        vertical-align: top;\n",
       "    }\n",
       "\n",
       "    .dataframe thead th {\n",
       "        text-align: right;\n",
       "    }\n",
       "</style>\n",
       "<table border=\"1\" class=\"dataframe\">\n",
       "  <thead>\n",
       "    <tr style=\"text-align: right;\">\n",
       "      <th></th>\n",
       "      <th>Course_id</th>\n",
       "      <th>Course</th>\n",
       "      <th>Faculty</th>\n",
       "      <th>Points</th>\n",
       "    </tr>\n",
       "  </thead>\n",
       "  <tbody>\n",
       "    <tr>\n",
       "      <th>0</th>\n",
       "      <td>18ME001</td>\n",
       "      <td>Engineering_Maths</td>\n",
       "      <td>Dr.Shrikath</td>\n",
       "      <td>4</td>\n",
       "    </tr>\n",
       "    <tr>\n",
       "      <th>1</th>\n",
       "      <td>18ME002</td>\n",
       "      <td>ThermoDynamics</td>\n",
       "      <td>Dr.Basavaraja</td>\n",
       "      <td>3</td>\n",
       "    </tr>\n",
       "    <tr>\n",
       "      <th>2</th>\n",
       "      <td>18ME003</td>\n",
       "      <td>CAD</td>\n",
       "      <td>Dr.Mallikarjun</td>\n",
       "      <td>3</td>\n",
       "    </tr>\n",
       "    <tr>\n",
       "      <th>3</th>\n",
       "      <td>18ME005</td>\n",
       "      <td>MOM</td>\n",
       "      <td>Sandeep</td>\n",
       "      <td>2</td>\n",
       "    </tr>\n",
       "    <tr>\n",
       "      <th>4</th>\n",
       "      <td>18ME012</td>\n",
       "      <td>TurboDynamics</td>\n",
       "      <td>Dr.Rajkumar</td>\n",
       "      <td>2</td>\n",
       "    </tr>\n",
       "  </tbody>\n",
       "</table>\n",
       "</div>"
      ],
      "text/plain": [
       "  Course_id             Course          Faculty  Points\n",
       "0   18ME001  Engineering_Maths      Dr.Shrikath       4\n",
       "1   18ME002     ThermoDynamics    Dr.Basavaraja       3\n",
       "2   18ME003                CAD  Dr.Mallikarjun        3\n",
       "3   18ME005                MOM          Sandeep       2\n",
       "4   18ME012      TurboDynamics      Dr.Rajkumar       2"
      ]
     },
     "execution_count": 36,
     "metadata": {},
     "output_type": "execute_result"
    }
   ],
   "source": [
    "df3=pd.read_csv('course.csv')\n",
    "df3"
   ]
  },
  {
   "cell_type": "markdown",
   "metadata": {},
   "source": [
    "#### Connecting to the db server"
   ]
  },
  {
   "cell_type": "code",
   "execution_count": 5,
   "metadata": {},
   "outputs": [
    {
     "name": "stdout",
     "output_type": "stream",
     "text": [
      "Connected to MySQL Server version 8.0.35\n"
     ]
    }
   ],
   "source": [
    "conn=mysql.connector.connect(host='localhost',user='root',password='Hari@8622',autocommit=True)\n",
    "cursor=conn.cursor()\n",
    "print(\"Connected to MySQL Server version %s\" % (conn.get_server_info()))\n"
   ]
  },
  {
   "cell_type": "markdown",
   "metadata": {},
   "source": [
    "#### Creating Database and Tables with above datasets respectively."
   ]
  },
  {
   "cell_type": "code",
   "execution_count": 6,
   "metadata": {},
   "outputs": [
    {
     "name": "stdout",
     "output_type": "stream",
     "text": [
      "1007 (HY000): Can't create database 'gmuniversity'; database exists\n"
     ]
    }
   ],
   "source": [
    "# Execute SQL query to create database\n",
    "try:\n",
    "    cursor.execute(\"CREATE DATABASE GmUniversity\")\n",
    "except  Exception as e:\n",
    "    print(e)"
   ]
  },
  {
   "cell_type": "code",
   "execution_count": 7,
   "metadata": {},
   "outputs": [
    {
     "name": "stdout",
     "output_type": "stream",
     "text": [
      "Connected to MySQL Server version 8.0.35\n"
     ]
    }
   ],
   "source": [
    "conn=mysql.connector.connect(host='localhost',user='root',password='Hari@8622',database='GmUniversity',autocommit=True)\n",
    "cursor=conn.cursor()\n",
    "print(\"Connected to MySQL Server version %s\" % (conn.get_server_info()))"
   ]
  },
  {
   "cell_type": "code",
   "execution_count": 17,
   "metadata": {},
   "outputs": [
    {
     "name": "stdout",
     "output_type": "stream",
     "text": [
      "Error creating table : 1050 (42S01): Table 'student' already exists\n"
     ]
    }
   ],
   "source": [
    "\n",
    "try:\n",
    "    cursor.execute(\"CREATE TABLE student (Student_id int PRIMARY KEY,Name varchar(50))\")\n",
    "    cursor.execute(\"CREATE TABLE student_courses (Student_id int,Couse_id int)\")\n",
    "    cursor.execute(\"CREATE TABLE course (Course_id int,Course varchar(100),Faculty varchar(100),Points int)\")\n",
    "except Exception as e:\n",
    "    print(f\"Error creating table : {e}\")"
   ]
  },
  {
   "cell_type": "code",
   "execution_count": 29,
   "metadata": {},
   "outputs": [],
   "source": [
    "cursor.execute(\"ALTER TABLE student_courses\\\n",
    "               RENAME COLUMN Couse_id to Course_id\")"
   ]
  },
  {
   "cell_type": "code",
   "execution_count": 34,
   "metadata": {},
   "outputs": [],
   "source": [
    "cursor.execute(\"ALTER TABLE student_courses\\\n",
    "               MODIFY course_id varchar(50)\")"
   ]
  },
  {
   "cell_type": "code",
   "execution_count": 37,
   "metadata": {},
   "outputs": [],
   "source": [
    "cursor.execute(\"ALTER TABLE course\\\n",
    "               MODIFY course_id varchar(50)\")"
   ]
  },
  {
   "cell_type": "code",
   "execution_count": 10,
   "metadata": {},
   "outputs": [],
   "source": [
    "# Insert data into 'student' table\n",
    "\n",
    "for index,row in df1.iterrows():\n",
    "    cursor.execute(\"INSERT INTO student VALUES(%s,%s)\",(row['Student_id'],row['Name']))"
   ]
  },
  {
   "cell_type": "code",
   "execution_count": 35,
   "metadata": {},
   "outputs": [],
   "source": [
    "# Insert data into student_courses table\n",
    "\n",
    "for index,row in df2.iterrows():\n",
    "    cursor.execute(\"INSERT INTO student_courses VALUES(%s,%s)\",(row['Student_id'],row['Course_id']))"
   ]
  },
  {
   "cell_type": "code",
   "execution_count": 43,
   "metadata": {},
   "outputs": [],
   "source": [
    "# Insert data into course table\n",
    "\n",
    "for index, row in df3.iterrows():\n",
    "    course_id = row['Course_id']\n",
    "    course = row['Course']\n",
    "    faculty = row['Faculty']\n",
    "\n",
    "    # Extract the integer value from the 'Points' column (assuming it's an integer)\n",
    "    points = row['Points']  # Assuming 'Points' has a single integer value\n",
    "\n",
    "    # Prepared statement with parameter binding for security and efficiency\n",
    "    sql = \"INSERT INTO course (Course_id, Course, Faculty, Points) VALUES (%s, %s, %s, %s)\"\n",
    "    cursor.execute(sql, (course_id, course, faculty, points))\n"
   ]
  },
  {
   "cell_type": "code",
   "execution_count": 50,
   "metadata": {},
   "outputs": [
    {
     "data": {
      "text/plain": [
       "[(101, 'ravi', '18ME001', 'Engineering_Maths', 'Dr.Shrikath', 4),\n",
       " (104, 'manoj', '18ME001', 'Engineering_Maths', 'Dr.Shrikath', 4),\n",
       " (106, 'guru', '18ME001', 'Engineering_Maths', 'Dr.Shrikath', 4),\n",
       " (110, 'rakshith', '18ME002', 'ThermoDynamics', 'Dr.Basavaraja', 3),\n",
       " (102, 'kiran', '18ME003', 'CAD', 'Dr.Mallikarjun ', 3),\n",
       " (105, 'kruthik', '18ME003', 'CAD', 'Dr.Mallikarjun ', 3),\n",
       " (108, 'jithendra', '18ME005', 'MOM', 'Sandeep', 2),\n",
       " (109, 'tarun', '18ME005', 'MOM', 'Sandeep', 2),\n",
       " (103, 'kedar', '18ME012', 'TurboDynamics', 'Dr.Rajkumar', 2),\n",
       " (107, 'darshan', '18ME012', 'TurboDynamics', 'Dr.Rajkumar', 2)]"
      ]
     },
     "execution_count": 50,
     "metadata": {},
     "output_type": "execute_result"
    }
   ],
   "source": [
    "# Make sure to consume the result of the query\n",
    "cursor.fetchall()"
   ]
  },
  {
   "cell_type": "code",
   "execution_count": 51,
   "metadata": {},
   "outputs": [
    {
     "name": "stderr",
     "output_type": "stream",
     "text": [
      "C:\\Users\\Hariprasad Kulkarni\\AppData\\Local\\Temp\\ipykernel_5768\\968820451.py:1: UserWarning: pandas only supports SQLAlchemy connectable (engine/connection) or database string URI or sqlite3 DBAPI2 connection. Other DBAPI2 objects are not tested. Please consider using SQLAlchemy.\n",
      "  tbl1=pd.read_sql_query(\"SELECT a.Student_id,a.Name,b.Course_id,c.Course,c.Faculty,c.Points\\\n"
     ]
    }
   ],
   "source": [
    "tbl1=pd.read_sql_query(\"SELECT a.Student_id,a.Name,b.Course_id,c.Course,c.Faculty,c.Points\\\n",
    "               FROM student a\\\n",
    "               JOIN student_courses b ON a.Student_id = b.Student_id\\\n",
    "               JOIN course c ON c.Course_id=b.Course_id\",con=conn)"
   ]
  },
  {
   "cell_type": "code",
   "execution_count": 52,
   "metadata": {},
   "outputs": [
    {
     "data": {
      "text/html": [
       "<div>\n",
       "<style scoped>\n",
       "    .dataframe tbody tr th:only-of-type {\n",
       "        vertical-align: middle;\n",
       "    }\n",
       "\n",
       "    .dataframe tbody tr th {\n",
       "        vertical-align: top;\n",
       "    }\n",
       "\n",
       "    .dataframe thead th {\n",
       "        text-align: right;\n",
       "    }\n",
       "</style>\n",
       "<table border=\"1\" class=\"dataframe\">\n",
       "  <thead>\n",
       "    <tr style=\"text-align: right;\">\n",
       "      <th></th>\n",
       "      <th>Student_id</th>\n",
       "      <th>Name</th>\n",
       "      <th>Course_id</th>\n",
       "      <th>Course</th>\n",
       "      <th>Faculty</th>\n",
       "      <th>Points</th>\n",
       "    </tr>\n",
       "  </thead>\n",
       "  <tbody>\n",
       "    <tr>\n",
       "      <th>0</th>\n",
       "      <td>101</td>\n",
       "      <td>ravi</td>\n",
       "      <td>18ME001</td>\n",
       "      <td>Engineering_Maths</td>\n",
       "      <td>Dr.Shrikath</td>\n",
       "      <td>4</td>\n",
       "    </tr>\n",
       "    <tr>\n",
       "      <th>1</th>\n",
       "      <td>104</td>\n",
       "      <td>manoj</td>\n",
       "      <td>18ME001</td>\n",
       "      <td>Engineering_Maths</td>\n",
       "      <td>Dr.Shrikath</td>\n",
       "      <td>4</td>\n",
       "    </tr>\n",
       "    <tr>\n",
       "      <th>2</th>\n",
       "      <td>106</td>\n",
       "      <td>guru</td>\n",
       "      <td>18ME001</td>\n",
       "      <td>Engineering_Maths</td>\n",
       "      <td>Dr.Shrikath</td>\n",
       "      <td>4</td>\n",
       "    </tr>\n",
       "    <tr>\n",
       "      <th>3</th>\n",
       "      <td>110</td>\n",
       "      <td>rakshith</td>\n",
       "      <td>18ME002</td>\n",
       "      <td>ThermoDynamics</td>\n",
       "      <td>Dr.Basavaraja</td>\n",
       "      <td>3</td>\n",
       "    </tr>\n",
       "    <tr>\n",
       "      <th>4</th>\n",
       "      <td>102</td>\n",
       "      <td>kiran</td>\n",
       "      <td>18ME003</td>\n",
       "      <td>CAD</td>\n",
       "      <td>Dr.Mallikarjun</td>\n",
       "      <td>3</td>\n",
       "    </tr>\n",
       "    <tr>\n",
       "      <th>5</th>\n",
       "      <td>105</td>\n",
       "      <td>kruthik</td>\n",
       "      <td>18ME003</td>\n",
       "      <td>CAD</td>\n",
       "      <td>Dr.Mallikarjun</td>\n",
       "      <td>3</td>\n",
       "    </tr>\n",
       "    <tr>\n",
       "      <th>6</th>\n",
       "      <td>108</td>\n",
       "      <td>jithendra</td>\n",
       "      <td>18ME005</td>\n",
       "      <td>MOM</td>\n",
       "      <td>Sandeep</td>\n",
       "      <td>2</td>\n",
       "    </tr>\n",
       "    <tr>\n",
       "      <th>7</th>\n",
       "      <td>109</td>\n",
       "      <td>tarun</td>\n",
       "      <td>18ME005</td>\n",
       "      <td>MOM</td>\n",
       "      <td>Sandeep</td>\n",
       "      <td>2</td>\n",
       "    </tr>\n",
       "    <tr>\n",
       "      <th>8</th>\n",
       "      <td>103</td>\n",
       "      <td>kedar</td>\n",
       "      <td>18ME012</td>\n",
       "      <td>TurboDynamics</td>\n",
       "      <td>Dr.Rajkumar</td>\n",
       "      <td>2</td>\n",
       "    </tr>\n",
       "    <tr>\n",
       "      <th>9</th>\n",
       "      <td>107</td>\n",
       "      <td>darshan</td>\n",
       "      <td>18ME012</td>\n",
       "      <td>TurboDynamics</td>\n",
       "      <td>Dr.Rajkumar</td>\n",
       "      <td>2</td>\n",
       "    </tr>\n",
       "  </tbody>\n",
       "</table>\n",
       "</div>"
      ],
      "text/plain": [
       "   Student_id       Name Course_id             Course          Faculty  Points\n",
       "0         101       ravi   18ME001  Engineering_Maths      Dr.Shrikath       4\n",
       "1         104      manoj   18ME001  Engineering_Maths      Dr.Shrikath       4\n",
       "2         106       guru   18ME001  Engineering_Maths      Dr.Shrikath       4\n",
       "3         110   rakshith   18ME002     ThermoDynamics    Dr.Basavaraja       3\n",
       "4         102      kiran   18ME003                CAD  Dr.Mallikarjun        3\n",
       "5         105    kruthik   18ME003                CAD  Dr.Mallikarjun        3\n",
       "6         108  jithendra   18ME005                MOM          Sandeep       2\n",
       "7         109      tarun   18ME005                MOM          Sandeep       2\n",
       "8         103      kedar   18ME012      TurboDynamics      Dr.Rajkumar       2\n",
       "9         107    darshan   18ME012      TurboDynamics      Dr.Rajkumar       2"
      ]
     },
     "execution_count": 52,
     "metadata": {},
     "output_type": "execute_result"
    }
   ],
   "source": [
    "tbl1"
   ]
  }
 ],
 "metadata": {
  "kernelspec": {
   "display_name": "Python 3",
   "language": "python",
   "name": "python3"
  },
  "language_info": {
   "codemirror_mode": {
    "name": "ipython",
    "version": 3
   },
   "file_extension": ".py",
   "mimetype": "text/x-python",
   "name": "python",
   "nbconvert_exporter": "python",
   "pygments_lexer": "ipython3",
   "version": "3.11.1"
  }
 },
 "nbformat": 4,
 "nbformat_minor": 2
}
